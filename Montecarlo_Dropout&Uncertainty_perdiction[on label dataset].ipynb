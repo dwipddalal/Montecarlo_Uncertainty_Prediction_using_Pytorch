{
 "cells": [
  {
   "cell_type": "code",
   "execution_count": 1,
   "metadata": {
    "id": "qhXmtBYISDZN"
   },
   "outputs": [],
   "source": [
    "# !pip3 install torch==1.10.2+cu113 torchvision==0.11.3+cu113 torchaudio===0.10.2+cu113 -f https://download.pytorch.org/whl/cu113/torch_stable.html"
   ]
  },
  {
   "cell_type": "code",
   "execution_count": 100,
   "metadata": {
    "id": "OZsswX0Icrxw"
   },
   "outputs": [],
   "source": [
    "import sklearn "
   ]
  },
  {
   "cell_type": "code",
   "execution_count": 101,
   "metadata": {},
   "outputs": [
    {
     "name": "stdout",
     "output_type": "stream",
     "text": [
      "Defaulting to user installation because normal site-packages is not writeable\n",
      "Requirement already satisfied: numpy in ./.local/lib/python3.8/site-packages (1.22.2)\n"
     ]
    }
   ],
   "source": [
    "!pip install numpy --upgrade"
   ]
  },
  {
   "cell_type": "code",
   "execution_count": 102,
   "metadata": {
    "colab": {
     "base_uri": "https://localhost:8080/"
    },
    "id": "5tPqtBmiXBzY",
    "outputId": "1b9aed9f-de48-4905-8b14-0ddcab73a97e"
   },
   "outputs": [],
   "source": [
    "import numpy as np                   \n",
    "import matplotlib.pyplot as plt      \n",
    "import random                        \n",
    "from tensorflow.keras.datasets import mnist     # MNIST dataset is included in Keras\n",
    "from keras.models import Sequential  # Model type to be used\n",
    "from keras.layers.core import Dense, Dropout, Activation # Types of layers to be used in our model\n",
    "from keras.utils import np_utils                         # NumPy related tools\n",
    "(X_train, y_train), (X_test, y_test) = mnist.load_data()\n",
    "X_train = X_train.reshape(60000, 784) # reshape 60,000 28 x 28 matrices into 60,000 784-length vectors.\n",
    "X_test = X_test.reshape(10000, 784)   # reshape 10,000 28 x 28 matrices into 10,000 784-length vectors.\n",
    "# X_train = X_train[:5000,]\n",
    "# y_train = y_train[:5000,]\n",
    "# X_test = X_test[:500,]\n",
    "# y_test = y_test[:500,]\n",
    "# print(X_test.shape)"
   ]
  },
  {
   "cell_type": "code",
   "execution_count": 103,
   "metadata": {
    "colab": {
     "base_uri": "https://localhost:8080/"
    },
    "id": "UCSbMXBc5YJe",
    "outputId": "1371b679-f2d3-406e-b00d-fddccffe4a8a"
   },
   "outputs": [
    {
     "name": "stdout",
     "output_type": "stream",
     "text": [
      "3.8.12\n"
     ]
    }
   ],
   "source": [
    "from platform import python_version\n",
    "\n",
    "print(python_version())"
   ]
  },
  {
   "cell_type": "code",
   "execution_count": 104,
   "metadata": {
    "id": "Ba4WR_YuZOLT"
   },
   "outputs": [],
   "source": [
    "x = X_train\n",
    "y = y_train\n",
    "x_test = X_test \n",
    "y_test = y_test"
   ]
  },
  {
   "cell_type": "code",
   "execution_count": 105,
   "metadata": {},
   "outputs": [
    {
     "name": "stdout",
     "output_type": "stream",
     "text": [
      "Defaulting to user installation because normal site-packages is not writeable\n",
      "Requirement already satisfied: seaborn in ./.local/lib/python3.8/site-packages (0.11.2)\n",
      "Requirement already satisfied: pandas>=0.23 in ./.local/lib/python3.8/site-packages (from seaborn) (1.4.1)\n",
      "Requirement already satisfied: matplotlib>=2.2 in ./.local/lib/python3.8/site-packages (from seaborn) (3.5.1)\n",
      "Requirement already satisfied: scipy>=1.0 in ./.local/lib/python3.8/site-packages (from seaborn) (1.8.0)\n",
      "Requirement already satisfied: numpy>=1.15 in ./.local/lib/python3.8/site-packages (from seaborn) (1.22.2)\n",
      "Requirement already satisfied: kiwisolver>=1.0.1 in ./.local/lib/python3.8/site-packages (from matplotlib>=2.2->seaborn) (1.3.2)\n",
      "Requirement already satisfied: python-dateutil>=2.7 in ./.local/lib/python3.8/site-packages (from matplotlib>=2.2->seaborn) (2.8.2)\n",
      "Requirement already satisfied: cycler>=0.10 in ./.local/lib/python3.8/site-packages (from matplotlib>=2.2->seaborn) (0.11.0)\n",
      "Requirement already satisfied: packaging>=20.0 in ./.local/lib/python3.8/site-packages (from matplotlib>=2.2->seaborn) (21.3)\n",
      "Requirement already satisfied: pillow>=6.2.0 in /usr/lib/python3/dist-packages (from matplotlib>=2.2->seaborn) (7.0.0)\n",
      "Requirement already satisfied: fonttools>=4.22.0 in ./.local/lib/python3.8/site-packages (from matplotlib>=2.2->seaborn) (4.29.1)\n",
      "Requirement already satisfied: pyparsing>=2.2.1 in ./.local/lib/python3.8/site-packages (from matplotlib>=2.2->seaborn) (3.0.6)\n",
      "Requirement already satisfied: pytz>=2020.1 in ./.local/lib/python3.8/site-packages (from pandas>=0.23->seaborn) (2021.3)\n",
      "Requirement already satisfied: six>=1.5 in ./.local/lib/python3.8/site-packages (from python-dateutil>=2.7->matplotlib>=2.2->seaborn) (1.16.0)\n"
     ]
    }
   ],
   "source": [
    "!pip install seaborn"
   ]
  },
  {
   "cell_type": "code",
   "execution_count": 106,
   "metadata": {
    "id": "nM6e0TCGUqPn"
   },
   "outputs": [
    {
     "name": "stdout",
     "output_type": "stream",
     "text": [
      "The autoreload extension is already loaded. To reload it, use:\n",
      "  %reload_ext autoreload\n"
     ]
    }
   ],
   "source": [
    "import os\n",
    "import numpy as np\n",
    "import pandas as pd\n",
    "import seaborn as sns\n",
    "import matplotlib.pyplot as plt\n",
    "import torch\n",
    "import torch.nn.functional as F #function such as activation,etc\n",
    "from torch import nn \n",
    "from torch.utils.data import DataLoader, TensorDataset\n",
    "from sklearn.preprocessing import MinMaxScaler\n",
    "from sklearn.metrics import mean_absolute_error\n",
    "from functools import partial\n",
    "from scipy import stats, interpolate\n",
    "%load_ext autoreload\n",
    "%autoreload 2"
   ]
  },
  {
   "cell_type": "code",
   "execution_count": 107,
   "metadata": {
    "id": "eCfKx7qhKXjS"
   },
   "outputs": [],
   "source": [
    "params = {\n",
    "    'input_size': 784,\n",
    "    'output_size': 10,\n",
    "    'hidden_size': 356,\n",
    "    'dropout_p': 0.4,\n",
    "    'batch_size': 128,\n",
    "    'epochs': 60,\n",
    "    'lr': 1e-4,\n",
    "}"
   ]
  },
  {
   "cell_type": "code",
   "execution_count": 108,
   "metadata": {
    "id": "EpbRwndIEOhK"
   },
   "outputs": [],
   "source": [
    "class MontecarloDropoutNet(nn.Module):\n",
    "    def __init__(self, params):\n",
    "        super().__init__() # this calls the intialization of the nn module method.\n",
    "        self.model_ = nn.Sequential(\n",
    "            nn.Linear(params['input_size'], params['hidden_size']), # params hidden_Size gives number of hidden nodes to the network\n",
    "            nn.Dropout(params['dropout_p']),\n",
    "            nn.Linear(params['hidden_size'], params['output_size']),\n",
    "            nn.Sigmoid()\n",
    "        )\n",
    "        self.optim_ = torch.optim.Adam(\n",
    "            self.model_.parameters(), \n",
    "            lr=params['lr']\n",
    "        )\n",
    "    \n",
    "    def forward(self, X):\n",
    "        #print(X.shape)\n",
    "        X = X.view(X.size(0), -1) # converts [128,1] to [128]\n",
    "        #print(X.shape)\n",
    "        return self.model_(X)\n",
    "\n",
    "    def mc_predict(self, X, samples=4000):\n",
    "        X = X.view(X.size(0), -1)\n",
    "        with torch.no_grad():\n",
    "            self.model_.train()\n",
    "            preds = torch.stack([self.model_(X) for _ in range(samples)], dim=-1) # runs the model for 4000 times and stack the predicted output\n",
    "        return preds"
   ]
  },
  {
   "cell_type": "code",
   "execution_count": 109,
   "metadata": {
    "id": "dbtUIFpRugRz"
   },
   "outputs": [],
   "source": [
    "def categorical_cross_entropy_nll_loss(output, target):\n",
    "  cross_entropy_loss = nn.CrossEntropyLoss()\n",
    "  return cross_entropy_loss(output, target)"
   ]
  },
  {
   "cell_type": "code",
   "execution_count": 110,
   "metadata": {
    "colab": {
     "base_uri": "https://localhost:8080/"
    },
    "id": "7oJjLtiUui8T",
    "outputId": "4b30d69e-e2ee-4c92-c4fc-de8872186969"
   },
   "outputs": [
    {
     "name": "stdout",
     "output_type": "stream",
     "text": [
      "MontecarloDropoutNet(\n",
      "  (model_): Sequential(\n",
      "    (0): Linear(in_features=784, out_features=356, bias=True)\n",
      "    (1): Dropout(p=0.4, inplace=False)\n",
      "    (2): Linear(in_features=356, out_features=10, bias=True)\n",
      "    (3): Sigmoid()\n",
      "  )\n",
      ")\n"
     ]
    }
   ],
   "source": [
    "model = MontecarloDropoutNet(params)\n",
    "print(model)\n",
    "criterion = categorical_cross_entropy_nll_loss"
   ]
  },
  {
   "cell_type": "code",
   "execution_count": 111,
   "metadata": {
    "id": "V876Erxp8zrD"
   },
   "outputs": [],
   "source": [
    "# import torch.optim as optim\n",
    "# optimizer = optim.Adam(model.parameters(), lr=1e-4)"
   ]
  },
  {
   "cell_type": "code",
   "execution_count": 112,
   "metadata": {
    "id": "l6065MiSII54"
   },
   "outputs": [],
   "source": [
    "# print(y_test[0])"
   ]
  },
  {
   "cell_type": "code",
   "execution_count": 113,
   "metadata": {
    "id": "QPex9ItOIQII"
   },
   "outputs": [],
   "source": [
    "# print(x_val[0])\n",
    "# pixels = x_val[0].reshape((28, 28))\n",
    "# plt.imshow(pixels, cmap='gray')\n",
    "# plt.show()"
   ]
  },
  {
   "cell_type": "code",
   "execution_count": 114,
   "metadata": {
    "id": "u2Wi2u_Vv0Ul"
   },
   "outputs": [],
   "source": [
    "x_train, y_train = torch.tensor(x, dtype=torch.float32), torch.tensor(y, dtype=torch.float32) # have to convert the dataset to tensor before passing it in the torch \n",
    "x_val, y_val = torch.tensor(x_test, dtype=torch.float32), torch.tensor(y_test, dtype=torch.float32)\n",
    "train_ds = TensorDataset(x_train, y_train)\n",
    "train_dl = DataLoader(train_ds, params['batch_size'], shuffle=True)"
   ]
  },
  {
   "cell_type": "code",
   "execution_count": 115,
   "metadata": {
    "id": "e4vZ9KlODpMZ"
   },
   "outputs": [],
   "source": [
    "def multi_acc(y_pred, y_test): \n",
    "    correct_pred = (y_test.to(torch.long) == y_pred.argmax(axis=1))\n",
    "    acc = correct_pred.sum() / len(correct_pred)\n",
    "    acc = acc * 100\n",
    "    return acc"
   ]
  },
  {
   "cell_type": "code",
   "execution_count": 116,
   "metadata": {},
   "outputs": [
    {
     "name": "stdout",
     "output_type": "stream",
     "text": [
      "Defaulting to user installation because normal site-packages is not writeable\n",
      "Requirement already satisfied: pytorch-ignite in ./.local/lib/python3.8/site-packages (0.4.8)\n",
      "Requirement already satisfied: torch<2,>=1.3 in ./.local/lib/python3.8/site-packages (from pytorch-ignite) (1.7.1)\n",
      "Requirement already satisfied: typing-extensions in ./.local/lib/python3.8/site-packages (from torch<2,>=1.3->pytorch-ignite) (4.1.1)\n",
      "Requirement already satisfied: numpy in ./.local/lib/python3.8/site-packages (from torch<2,>=1.3->pytorch-ignite) (1.22.2)\n"
     ]
    }
   ],
   "source": [
    "!pip install pytorch-ignite"
   ]
  },
  {
   "cell_type": "code",
   "execution_count": 117,
   "metadata": {
    "colab": {
     "base_uri": "https://localhost:8080/",
     "height": 265
    },
    "id": "rk_DHV-o2qNR",
    "outputId": "0569d180-dfcd-45e6-9422-6bc7a0e8c918"
   },
   "outputs": [
    {
     "data": {
      "image/png": "[encoded data removed]",
      "text/plain": [
       "<Figure size 432x288 with 1 Axes>"
      ]
     },
     "metadata": {
      "needs_background": "light"
     },
     "output_type": "display_data"
    }
   ],
   "source": [
    "pixels = x_val[0].reshape((28, 28))\n",
    "plt.imshow(pixels, cmap='gray')\n",
    "plt.show()"
   ]
  },
  {
   "cell_type": "code",
   "execution_count": 118,
   "metadata": {
    "colab": {
     "base_uri": "https://localhost:8080/"
    },
    "id": "Olmt8XInul7H",
    "outputId": "2199e3dd-bbb8-4e1d-a148-3d6ee0c54cb5"
   },
   "outputs": [
    {
     "name": "stdout",
     "output_type": "stream",
     "text": [
      "Epoch: 0 \t Train loss:1.59790 \t Val loss: 1.58992 \t train accuracy: 85.27333 \t val accuracy: 85.90000\n",
      "Epoch: 1 \t Train loss:1.58586 \t Val loss: 1.58092 \t train accuracy: 85.75166 \t val accuracy: 86.45000\n",
      "Epoch: 2 \t Train loss:1.58365 \t Val loss: 1.57611 \t train accuracy: 85.26667 \t val accuracy: 85.92000\n",
      "Epoch: 3 \t Train loss:1.57095 \t Val loss: 1.56597 \t train accuracy: 86.85333 \t val accuracy: 87.32000\n",
      "Epoch: 4 \t Train loss:1.57295 \t Val loss: 1.56988 \t train accuracy: 85.20333 \t val accuracy: 85.68999\n",
      "Epoch: 5 \t Train loss:1.56878 \t Val loss: 1.56637 \t train accuracy: 86.27500 \t val accuracy: 86.87000\n",
      "Epoch: 6 \t Train loss:1.56631 \t Val loss: 1.56046 \t train accuracy: 87.50833 \t val accuracy: 88.07000\n",
      "Epoch: 7 \t Train loss:1.56463 \t Val loss: 1.56161 \t train accuracy: 87.84000 \t val accuracy: 88.15000\n",
      "Epoch: 8 \t Train loss:1.56436 \t Val loss: 1.55896 \t train accuracy: 88.34499 \t val accuracy: 88.82000\n",
      "Epoch: 9 \t Train loss:1.56242 \t Val loss: 1.55851 \t train accuracy: 87.31167 \t val accuracy: 87.75000\n",
      "Epoch: 10 \t Train loss:1.55872 \t Val loss: 1.55466 \t train accuracy: 87.65000 \t val accuracy: 87.86000\n",
      "Epoch: 11 \t Train loss:1.56011 \t Val loss: 1.55684 \t train accuracy: 87.27500 \t val accuracy: 87.66000\n",
      "Epoch: 12 \t Train loss:1.55987 \t Val loss: 1.55588 \t train accuracy: 86.71333 \t val accuracy: 87.39000\n",
      "Epoch: 13 \t Train loss:1.55998 \t Val loss: 1.55580 \t train accuracy: 89.20333 \t val accuracy: 89.74001\n",
      "Epoch: 14 \t Train loss:1.55842 \t Val loss: 1.55433 \t train accuracy: 87.89667 \t val accuracy: 88.32000\n",
      "Epoch: 15 \t Train loss:1.56445 \t Val loss: 1.56248 \t train accuracy: 84.34333 \t val accuracy: 84.93000\n",
      "Epoch: 16 \t Train loss:1.55799 \t Val loss: 1.55621 \t train accuracy: 87.87334 \t val accuracy: 87.76000\n",
      "Epoch: 17 \t Train loss:1.56266 \t Val loss: 1.56030 \t train accuracy: 89.02167 \t val accuracy: 89.34000\n",
      "Epoch: 18 \t Train loss:1.55882 \t Val loss: 1.55642 \t train accuracy: 87.90000 \t val accuracy: 88.23000\n",
      "Epoch: 19 \t Train loss:1.55676 \t Val loss: 1.55425 \t train accuracy: 88.06667 \t val accuracy: 88.32000\n",
      "Epoch: 20 \t Train loss:1.55662 \t Val loss: 1.55476 \t train accuracy: 87.01666 \t val accuracy: 87.48000\n",
      "Epoch: 21 \t Train loss:1.55533 \t Val loss: 1.55282 \t train accuracy: 88.46833 \t val accuracy: 88.90000\n",
      "Epoch: 22 \t Train loss:1.55747 \t Val loss: 1.55579 \t train accuracy: 86.18833 \t val accuracy: 86.79000\n",
      "Epoch: 23 \t Train loss:1.55546 \t Val loss: 1.55210 \t train accuracy: 89.20667 \t val accuracy: 89.62000\n",
      "Epoch: 24 \t Train loss:1.55627 \t Val loss: 1.55481 \t train accuracy: 87.68500 \t val accuracy: 87.57000\n",
      "Epoch: 25 \t Train loss:1.55626 \t Val loss: 1.55637 \t train accuracy: 88.67000 \t val accuracy: 88.89000\n",
      "Epoch: 26 \t Train loss:1.55576 \t Val loss: 1.55470 \t train accuracy: 88.86833 \t val accuracy: 89.01000\n",
      "Epoch: 27 \t Train loss:1.55734 \t Val loss: 1.55871 \t train accuracy: 87.71167 \t val accuracy: 88.06000\n",
      "Epoch: 28 \t Train loss:1.55459 \t Val loss: 1.55316 \t train accuracy: 88.89167 \t val accuracy: 89.32000\n",
      "Epoch: 29 \t Train loss:1.55576 \t Val loss: 1.55417 \t train accuracy: 86.14333 \t val accuracy: 86.26000\n",
      "Epoch: 30 \t Train loss:1.55333 \t Val loss: 1.55334 \t train accuracy: 87.98666 \t val accuracy: 88.31000\n",
      "Epoch: 31 \t Train loss:1.55127 \t Val loss: 1.55041 \t train accuracy: 87.88499 \t val accuracy: 88.16000\n",
      "Epoch: 32 \t Train loss:1.55554 \t Val loss: 1.55618 \t train accuracy: 87.32333 \t val accuracy: 87.49000\n",
      "Epoch: 33 \t Train loss:1.55518 \t Val loss: 1.55478 \t train accuracy: 87.91167 \t val accuracy: 88.27000\n",
      "Epoch: 34 \t Train loss:1.55441 \t Val loss: 1.55517 \t train accuracy: 88.70499 \t val accuracy: 89.03000\n",
      "Epoch: 35 \t Train loss:1.55364 \t Val loss: 1.55442 \t train accuracy: 88.66833 \t val accuracy: 88.98000\n",
      "Epoch: 36 \t Train loss:1.55183 \t Val loss: 1.55231 \t train accuracy: 88.34499 \t val accuracy: 88.57000\n",
      "Epoch: 37 \t Train loss:1.55191 \t Val loss: 1.55211 \t train accuracy: 88.95000 \t val accuracy: 89.22000\n",
      "Epoch: 38 \t Train loss:1.55170 \t Val loss: 1.55136 \t train accuracy: 88.63834 \t val accuracy: 88.81001\n",
      "Epoch: 39 \t Train loss:1.55004 \t Val loss: 1.55162 \t train accuracy: 88.08666 \t val accuracy: 88.44000\n",
      "Epoch: 40 \t Train loss:1.55544 \t Val loss: 1.55664 \t train accuracy: 88.19833 \t val accuracy: 88.40000\n",
      "Epoch: 41 \t Train loss:1.55696 \t Val loss: 1.55513 \t train accuracy: 87.41000 \t val accuracy: 87.82000\n",
      "Epoch: 42 \t Train loss:1.55240 \t Val loss: 1.55166 \t train accuracy: 87.16167 \t val accuracy: 87.53000\n",
      "Epoch: 43 \t Train loss:1.55125 \t Val loss: 1.55319 \t train accuracy: 88.84333 \t val accuracy: 88.83000\n",
      "Epoch: 44 \t Train loss:1.55068 \t Val loss: 1.55085 \t train accuracy: 87.89667 \t val accuracy: 88.28000\n",
      "Epoch: 45 \t Train loss:1.55539 \t Val loss: 1.55520 \t train accuracy: 89.03667 \t val accuracy: 89.06001\n",
      "Epoch: 46 \t Train loss:1.55238 \t Val loss: 1.55249 \t train accuracy: 89.18833 \t val accuracy: 89.38000\n",
      "Epoch: 47 \t Train loss:1.55172 \t Val loss: 1.55087 \t train accuracy: 87.86167 \t val accuracy: 88.09000\n",
      "Epoch: 48 \t Train loss:1.55407 \t Val loss: 1.55268 \t train accuracy: 87.17667 \t val accuracy: 87.26000\n",
      "Epoch: 49 \t Train loss:1.55084 \t Val loss: 1.54929 \t train accuracy: 87.06833 \t val accuracy: 87.60000\n",
      "Epoch: 50 \t Train loss:1.55174 \t Val loss: 1.55035 \t train accuracy: 87.50500 \t val accuracy: 87.77000\n",
      "Epoch: 51 \t Train loss:1.55236 \t Val loss: 1.55170 \t train accuracy: 88.59666 \t val accuracy: 88.85000\n",
      "Epoch: 52 \t Train loss:1.55349 \t Val loss: 1.55356 \t train accuracy: 85.19667 \t val accuracy: 85.64000\n",
      "Epoch: 53 \t Train loss:1.55487 \t Val loss: 1.55245 \t train accuracy: 89.71333 \t val accuracy: 90.08000\n",
      "Epoch: 54 \t Train loss:1.55169 \t Val loss: 1.54923 \t train accuracy: 88.57500 \t val accuracy: 88.97000\n",
      "Epoch: 55 \t Train loss:1.55011 \t Val loss: 1.54863 \t train accuracy: 88.18167 \t val accuracy: 88.52000\n",
      "Epoch: 56 \t Train loss:1.55205 \t Val loss: 1.55025 \t train accuracy: 89.53000 \t val accuracy: 89.84000\n",
      "Epoch: 57 \t Train loss:1.55264 \t Val loss: 1.55163 \t train accuracy: 89.36000 \t val accuracy: 89.61000\n",
      "Epoch: 58 \t Train loss:1.55428 \t Val loss: 1.55339 \t train accuracy: 87.37666 \t val accuracy: 87.83000\n",
      "Epoch: 59 \t Train loss:1.55268 \t Val loss: 1.55203 \t train accuracy: 88.14500 \t val accuracy: 88.38000\n"
     ]
    }
   ],
   "source": [
    "for epoch in range(params['epochs']):\n",
    "    for x_batch, y_batch in train_dl:\n",
    "        model.train()\n",
    "        output = model(x_batch)\n",
    "        loss = criterion(output, y_batch.to(torch.long))\n",
    "        loss.backward()\n",
    "        model.optim_.step()\n",
    "        model.optim_.zero_grad()\n",
    "    if epoch % 1 == 0:\n",
    "        model.eval()\n",
    "        with torch.no_grad():\n",
    "            output_train = model(x_train)\n",
    "            #print(output_train[0, :])\n",
    "            # print(output_train.argmax(axis=1).shape)\n",
    "            # print(y_train.shape)\n",
    "            # print(type(output_train))\n",
    "            accuracy_train = multi_acc(output_train, y_train)\n",
    "            # print(accuracy_train)\n",
    "            train_loss = criterion(output_train, y_train.to(torch.long))\n",
    "            output_val = model(x_val)\n",
    "            # print(output_val.argmax(axis=1))\n",
    "            # print(y_val.to(torch.long))\n",
    "            acc_val = multi_acc(output_val,y_val)\n",
    "            val_loss = criterion(output_val, y_val.to(torch.long))\n",
    "        print(f\"Epoch: {epoch} \\t Train loss:{train_loss:.5f} \\t Val loss: {val_loss:.5f} \\t train accuracy: {accuracy_train:.5f} \\t val accuracy: {acc_val:.5f}\")"
   ]
  },
  {
   "cell_type": "code",
   "execution_count": 119,
   "metadata": {
    "colab": {
     "base_uri": "https://localhost:8080/"
    },
    "id": "PBhaoRZE4CqG",
    "outputId": "6d39852f-a8bd-4f7c-fa0e-da31c740f8ff"
   },
   "outputs": [
    {
     "data": {
      "text/plain": [
       "torch.Size([10000, 784])"
      ]
     },
     "execution_count": 119,
     "metadata": {},
     "output_type": "execute_result"
    }
   ],
   "source": [
    "x_val.shape"
   ]
  },
  {
   "cell_type": "code",
   "execution_count": 120,
   "metadata": {
    "colab": {
     "base_uri": "https://localhost:8080/"
    },
    "id": "nUXBVECcubtw",
    "outputId": "060f8598-60f2-4d7b-d825-705ba7ee68bc"
   },
   "outputs": [
    {
     "name": "stdout",
     "output_type": "stream",
     "text": [
      "tensor(87.1000)\n"
     ]
    }
   ],
   "source": [
    "preds_val = model.mc_predict(x_val, samples=2000).numpy() # this has 50 bundles of predictions where in each bundle there's prediction of one model\n",
    "# print(preds_val[:,:,1].argmax(axis=1))\n",
    "print(multi_acc(torch.Tensor(preds_val[:,:,1]), y_val))"
   ]
  },
  {
   "cell_type": "code",
   "execution_count": 121,
   "metadata": {
    "colab": {
     "base_uri": "https://localhost:8080/"
    },
    "id": "SGGIUCf8QCpV",
    "outputId": "e8158c52-3f76-4115-b914-844351af7ab6"
   },
   "outputs": [
    {
     "name": "stdout",
     "output_type": "stream",
     "text": [
      "tensor(7.)\n"
     ]
    }
   ],
   "source": [
    "print(y_val[0])"
   ]
  },
  {
   "cell_type": "code",
   "execution_count": 122,
   "metadata": {
    "id": "eOerGxO5Ccze"
   },
   "outputs": [],
   "source": [
    "y_proba_Final = preds_val.mean(axis=2)"
   ]
  },
  {
   "cell_type": "markdown",
   "metadata": {
    "id": "3Fmzy8giJuqx"
   },
   "source": [
    "## As we can see in the following output that normal output of the softmax + droput is more certain then the MC dropout."
   ]
  },
  {
   "cell_type": "code",
   "execution_count": 123,
   "metadata": {
    "colab": {
     "base_uri": "https://localhost:8080/"
    },
    "id": "ZGPuO0PPCnOx",
    "outputId": "2d540e09-94aa-407c-831a-5ef533868e8b"
   },
   "outputs": [
    {
     "data": {
      "text/plain": [
       "(10000, 10)"
      ]
     },
     "execution_count": 123,
     "metadata": {},
     "output_type": "execute_result"
    }
   ],
   "source": [
    "y_proba_Final.shape"
   ]
  },
  {
   "cell_type": "code",
   "execution_count": 124,
   "metadata": {
    "colab": {
     "base_uri": "https://localhost:8080/"
    },
    "id": "xOJil2UPCq90",
    "outputId": "0cfb1527-219d-4128-c9f3-3689056ce1a2"
   },
   "outputs": [
    {
     "name": "stdout",
     "output_type": "stream",
     "text": [
      "tensor(91.0900)\n"
     ]
    }
   ],
   "source": [
    "print(multi_acc(torch.Tensor(y_proba_Final), y_val))"
   ]
  },
  {
   "cell_type": "markdown",
   "metadata": {
    "id": "cYlly27jDIg9"
   },
   "source": [
    "### We can see here the accuracy on performing MC dropout on base model increase roughly by 4%"
   ]
  },
  {
   "cell_type": "markdown",
   "metadata": {
    "id": "Zo5Agvj6E9Eo"
   },
   "source": [
    "# Now let's calculate uncertainties in the prediction"
   ]
  },
  {
   "cell_type": "code",
   "execution_count": 132,
   "metadata": {
    "colab": {
     "base_uri": "https://localhost:8080/"
    },
    "id": "ZDOWyBl_E8EO",
    "outputId": "cc16d8ec-4361-44a4-e170-b43ada563ca6"
   },
   "outputs": [
    {
     "data": {
      "text/plain": [
       "array([0.0000000e+00, 0.0000000e+00, 0.0000000e+00, 1.8643370e-20,\n",
       "       0.0000000e+00, 2.8195895e-02, 0.0000000e+00, 7.2273567e-02,\n",
       "       0.0000000e+00, 1.4640856e-01], dtype=float32)"
      ]
     },
     "execution_count": 132,
     "metadata": {},
     "output_type": "execute_result"
    }
   ],
   "source": [
    "y_std = preds_val.std(axis = 2)\n",
    "y_std[24,:]"
   ]
  },
  {
   "cell_type": "markdown",
   "metadata": {
    "id": "dDf57CuklNV3"
   },
   "source": [
    "# Let's plot stuff"
   ]
  },
  {
   "cell_type": "code",
   "execution_count": 126,
   "metadata": {
    "colab": {
     "base_uri": "https://localhost:8080/",
     "height": 265
    },
    "id": "WXw1sqVOleK4",
    "outputId": "4a279d08-0e8e-49fa-eb20-aa06bf16e489"
   },
   "outputs": [
    {
     "data": {
      "image/png": "[encoded data removed]",
      "text/plain": [
       "<Figure size 432x288 with 1 Axes>"
      ]
     },
     "metadata": {
      "needs_background": "light"
     },
     "output_type": "display_data"
    }
   ],
   "source": [
    "pixels = x_val[48].reshape((28, 28))\n",
    "plt.imshow(pixels, cmap='gray')\n",
    "plt.show()"
   ]
  },
  {
   "cell_type": "code",
   "execution_count": 127,
   "metadata": {
    "colab": {
     "base_uri": "https://localhost:8080/"
    },
    "id": "cbnERWzhH9cs",
    "outputId": "3b675e63-290c-4804-d59c-7d22b3f3836d"
   },
   "outputs": [
    {
     "data": {
      "text/plain": [
       "tensor(4.)"
      ]
     },
     "execution_count": 127,
     "metadata": {},
     "output_type": "execute_result"
    }
   ],
   "source": [
    "y_val[48]"
   ]
  },
  {
   "cell_type": "code",
   "execution_count": 128,
   "metadata": {
    "colab": {
     "base_uri": "https://localhost:8080/"
    },
    "id": "UWNJ_UbDH1XK",
    "outputId": "af0b73a2-8b51-4594-ae5c-ad3c6fbee27a"
   },
   "outputs": [
    {
     "data": {
      "text/plain": [
       "array([0.0000000e+00, 0.0000000e+00, 0.0000000e+00, 0.0000000e+00,\n",
       "       1.0000000e+00, 0.0000000e+00, 0.0000000e+00, 0.0000000e+00,\n",
       "       3.9521479e-09, 4.9503426e-30], dtype=float32)"
      ]
     },
     "execution_count": 128,
     "metadata": {},
     "output_type": "execute_result"
    }
   ],
   "source": [
    "preds_val[48,:,1]"
   ]
  },
  {
   "cell_type": "code",
   "execution_count": 129,
   "metadata": {
    "colab": {
     "base_uri": "https://localhost:8080/"
    },
    "id": "9VUTeuuDlT_a",
    "outputId": "33e0bb84-dd81-47c6-ad34-2c72abd2e0e1"
   },
   "outputs": [
    {
     "data": {
      "text/plain": [
       "array([0.0000000e+00, 0.0000000e+00, 0.0000000e+00, 0.0000000e+00,\n",
       "       1.0000000e+00, 9.7073050e-15, 0.0000000e+00, 0.0000000e+00,\n",
       "       3.2773945e-01, 8.9666948e-02], dtype=float32)"
      ]
     },
     "execution_count": 129,
     "metadata": {},
     "output_type": "execute_result"
    }
   ],
   "source": [
    "y_proba_Final[48,:]"
   ]
  },
  {
   "cell_type": "code",
   "execution_count": 130,
   "metadata": {
    "colab": {
     "base_uri": "https://localhost:8080/",
     "height": 279
    },
    "id": "FZQbTnoMlLwU",
    "outputId": "04de934c-1cca-40fe-ef74-c152afbcbb1f"
   },
   "outputs": [
    {
     "data": {
      "image/png": "[encoded data removed]",
      "text/plain": [
       "<Figure size 432x288 with 1 Axes>"
      ]
     },
     "metadata": {
      "needs_background": "light"
     },
     "output_type": "display_data"
    }
   ],
   "source": [
    "plt.bar([0,1,2,3,4,5,6,7,8,9], y_proba_Final[48,:], color ='maroon',\n",
    "        width = 0.4) \n",
    "plt.ylabel('Probability')\n",
    "plt.xlabel('Data');"
   ]
  },
  {
   "cell_type": "code",
   "execution_count": null,
   "metadata": {},
   "outputs": [],
   "source": []
  }
 ],
 "metadata": {
  "colab": {
   "name": "Copy of Uncertainty perdiction[classification].ipynb",
   "provenance": []
  },
  "kernelspec": {
   "display_name": "pal",
   "language": "python",
   "name": "pal"
  },
  "language_info": {
   "codemirror_mode": {
    "name": "ipython",
    "version": 3
   },
   "file_extension": ".py",
   "mimetype": "text/x-python",
   "name": "python",
   "nbconvert_exporter": "python",
   "pygments_lexer": "ipython3",
   "version": "3.8.12"
  }
 },
 "nbformat": 4,
 "nbformat_minor": 1
}
